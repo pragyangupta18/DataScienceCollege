{
  "nbformat": 4,
  "nbformat_minor": 0,
  "metadata": {
    "colab": {
      "provenance": []
    },
    "kernelspec": {
      "name": "python3",
      "display_name": "Python 3"
    },
    "language_info": {
      "name": "python"
    }
  },
  "cells": [
    {
      "cell_type": "markdown",
      "source": [
        "7 Text Analytics\n",
        "\n",
        "1.Extract Sample document and apply following document preprocessing methods:\n",
        "Tokenization, POS Tagging, stop words removal, Stemming and Lemmatization.\n",
        "\n",
        "2.Create representation of documents by calculating Term Frequency and Inverse\n",
        "DocumentFrequency."
      ],
      "metadata": {
        "id": "0PYMKuYrWA1y"
      }
    },
    {
      "cell_type": "code",
      "source": [
        "import nltk\n",
        "from nltk.tokenize import word_tokenize\n",
        "from nltk.corpus import stopwords\n",
        "from nltk.stem import PorterStemmer, WordNetLemmatizer\n",
        "from nltk import pos_tag\n",
        "\n",
        "nltk.download('punkt')\n",
        "nltk.download('stopwords')\n",
        "nltk.download('wordnet')\n",
        "nltk.download('averaged_perceptron_tagger')\n",
        "\n",
        "# Sample document\n",
        "document = \"Text analytics is the process of deriving meaningful information from natural language text. It involves several steps such as tokenization, part-of-speech tagging, removing stop words, stemming, and lemmatization.\"\n",
        "\n",
        "# Tokenization\n",
        "tokens = word_tokenize(document)\n",
        "\n",
        "# POS Tagging\n",
        "pos_tags = pos_tag(tokens)\n",
        "\n",
        "# Stop Words Removal\n",
        "stop_words = set(stopwords.words('english'))\n",
        "filtered_tokens = [word for word in tokens if word.lower() not in stop_words]\n",
        "\n",
        "# Stemming\n",
        "stemmer = PorterStemmer()\n",
        "stemmed_tokens = [stemmer.stem(word) for word in filtered_tokens]\n",
        "\n",
        "# Lemmatization\n",
        "lemmatizer = WordNetLemmatizer()\n",
        "lemmatized_tokens = [lemmatizer.lemmatize(word) for word in filtered_tokens]\n",
        "\n",
        "print(\"Original Tokens:\", tokens)\n",
        "print(\"POS Tags:\", pos_tags)\n",
        "print(\"Filtered Tokens (Stop Words Removal):\", filtered_tokens)\n",
        "print(\"Stemmed Tokens:\", stemmed_tokens)\n",
        "print(\"Lemmatized Tokens:\", lemmatized_tokens)\n"
      ],
      "metadata": {
        "id": "6H_0Z4y-tjS-",
        "outputId": "ff27c7dd-108c-41b3-e89c-a6fb7c03f90f",
        "colab": {
          "base_uri": "https://localhost:8080/"
        }
      },
      "execution_count": 9,
      "outputs": [
        {
          "output_type": "stream",
          "name": "stderr",
          "text": [
            "[nltk_data] Downloading package punkt to /root/nltk_data...\n",
            "[nltk_data]   Unzipping tokenizers/punkt.zip.\n",
            "[nltk_data] Downloading package stopwords to /root/nltk_data...\n",
            "[nltk_data]   Unzipping corpora/stopwords.zip.\n",
            "[nltk_data] Downloading package wordnet to /root/nltk_data...\n",
            "[nltk_data] Downloading package averaged_perceptron_tagger to\n",
            "[nltk_data]     /root/nltk_data...\n",
            "[nltk_data]   Unzipping taggers/averaged_perceptron_tagger.zip.\n"
          ]
        },
        {
          "output_type": "stream",
          "name": "stdout",
          "text": [
            "Original Tokens: ['Text', 'analytics', 'is', 'the', 'process', 'of', 'deriving', 'meaningful', 'information', 'from', 'natural', 'language', 'text', '.', 'It', 'involves', 'several', 'steps', 'such', 'as', 'tokenization', ',', 'part-of-speech', 'tagging', ',', 'removing', 'stop', 'words', ',', 'stemming', ',', 'and', 'lemmatization', '.']\n",
            "POS Tags: [('Text', 'NN'), ('analytics', 'NNS'), ('is', 'VBZ'), ('the', 'DT'), ('process', 'NN'), ('of', 'IN'), ('deriving', 'VBG'), ('meaningful', 'JJ'), ('information', 'NN'), ('from', 'IN'), ('natural', 'JJ'), ('language', 'NN'), ('text', 'NN'), ('.', '.'), ('It', 'PRP'), ('involves', 'VBZ'), ('several', 'JJ'), ('steps', 'NNS'), ('such', 'JJ'), ('as', 'IN'), ('tokenization', 'NN'), (',', ','), ('part-of-speech', 'JJ'), ('tagging', 'NN'), (',', ','), ('removing', 'VBG'), ('stop', 'NN'), ('words', 'NNS'), (',', ','), ('stemming', 'VBG'), (',', ','), ('and', 'CC'), ('lemmatization', 'NN'), ('.', '.')]\n",
            "Filtered Tokens (Stop Words Removal): ['Text', 'analytics', 'process', 'deriving', 'meaningful', 'information', 'natural', 'language', 'text', '.', 'involves', 'several', 'steps', 'tokenization', ',', 'part-of-speech', 'tagging', ',', 'removing', 'stop', 'words', ',', 'stemming', ',', 'lemmatization', '.']\n",
            "Stemmed Tokens: ['text', 'analyt', 'process', 'deriv', 'meaning', 'inform', 'natur', 'languag', 'text', '.', 'involv', 'sever', 'step', 'token', ',', 'part-of-speech', 'tag', ',', 'remov', 'stop', 'word', ',', 'stem', ',', 'lemmat', '.']\n",
            "Lemmatized Tokens: ['Text', 'analytics', 'process', 'deriving', 'meaningful', 'information', 'natural', 'language', 'text', '.', 'involves', 'several', 'step', 'tokenization', ',', 'part-of-speech', 'tagging', ',', 'removing', 'stop', 'word', ',', 'stemming', ',', 'lemmatization', '.']\n"
          ]
        }
      ]
    },
    {
      "cell_type": "code",
      "source": [
        "from sklearn.feature_extraction.text import TfidfVectorizer\n",
        "\n",
        "# Example documents\n",
        "documents = [\n",
        "    \"Text analytics is the process of deriving meaningful information from natural language text.\",\n",
        "    \"It involves several steps such as tokenization, part-of-speech tagging, removing stop words, stemming, and lemmatization.\"\n",
        "]\n",
        "\n",
        "# Initialize TfidfVectorizer\n",
        "tfidf_vectorizer = TfidfVectorizer()\n",
        "\n",
        "# Fit and transform documents\n",
        "tfidf_matrix = tfidf_vectorizer.fit_transform(documents)\n",
        "\n",
        "# Get feature names\n",
        "feature_names = tfidf_vectorizer.get_feature_names_out()\n",
        "\n",
        "# Create a DataFrame to display TF-IDF representation\n",
        "import pandas as pd\n",
        "tfidf_df = pd.DataFrame(tfidf_matrix.toarray(), columns=feature_names)\n",
        "print(tfidf_df)\n"
      ],
      "metadata": {
        "id": "amV4L4T_vY3m",
        "outputId": "26ced018-1a7a-455b-a707-d959836b635b",
        "colab": {
          "base_uri": "https://localhost:8080/"
        }
      },
      "execution_count": 10,
      "outputs": [
        {
          "output_type": "stream",
          "name": "stdout",
          "text": [
            "   analytics       and        as  deriving      from  information  involves  \\\n",
            "0   0.262556  0.000000  0.000000  0.262556  0.262556     0.262556  0.000000   \n",
            "1   0.000000  0.246136  0.246136  0.000000  0.000000     0.000000  0.246136   \n",
            "\n",
            "         is        it  language  ...    speech  stemming     steps      stop  \\\n",
            "0  0.262556  0.000000  0.262556  ...  0.000000  0.000000  0.000000  0.000000   \n",
            "1  0.000000  0.246136  0.000000  ...  0.246136  0.246136  0.246136  0.246136   \n",
            "\n",
            "       such   tagging      text       the  tokenization     words  \n",
            "0  0.000000  0.000000  0.525113  0.262556      0.000000  0.000000  \n",
            "1  0.246136  0.246136  0.000000  0.000000      0.246136  0.246136  \n",
            "\n",
            "[2 rows x 28 columns]\n"
          ]
        }
      ]
    }
  ]
}